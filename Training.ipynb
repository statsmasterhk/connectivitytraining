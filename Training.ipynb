{
 "cells": [
  {
   "cell_type": "code",
   "execution_count": 10,
   "id": "8f8c5108",
   "metadata": {},
   "outputs": [
    {
     "name": "stdout",
     "output_type": "stream",
     "text": [
      "The autoreload extension is already loaded. To reload it, use:\n",
      "  %reload_ext autoreload\n"
     ]
    }
   ],
   "source": [
    "# Expecting at this point we already have \n",
    "# 1. Feat.npy generated, 2. corresponding csv files 3. train/test races .txt file\n",
    "import os\n",
    "import glob\n",
    "import cv2\n",
    "import copy, time\n",
    "\n",
    "import torch\n",
    "import numpy as np\n",
    "\n",
    "from util.train_helper import *\n",
    "%load_ext autoreload\n",
    "%autoreload 2\n",
    "%reload_ext autoreload\n",
    "\n",
    "# Set up Parameters\n",
    "# HVT small batch for testing\n",
    "# train_races_txt = \"G:/tim/Project/Connectivity_train_test/HVT_small_train_races.txt\"\n",
    "# test_races_txt = \"G:/tim/Project/Connectivity_train_test/HVT_small_test_races.txt\"\n",
    "# trip_feat_train_dir = \"D:/Bitbucket/triplettraining/feat/HVT_train\"\n",
    "# trip_feat_test_dir = \"D:/Bitbucket/triplettraining/feat/HVT_test\"\n",
    "# cap_gt_dir = \"G:/tim/Project/Connectivity_train_test/real_data/HVT-2018-2019_full_recall\"\n",
    "\n",
    "# HVT Full\n",
    "# train_races_txt = \"G:/tim/Project/Connectivity_train_test/HVT_train_races.txt\"\n",
    "# test_races_txt = \"G:/tim/Project/Connectivity_train_test/HVT_test_races.txt\"\n",
    "# trip_feat_train_dir = \"D:/Bitbucket/triplettraining/feat/HVT_train\"\n",
    "# trip_feat_test_dir = \"D:/Bitbucket/triplettraining/feat/HVT_test\"\n",
    "# cap_gt_dir = \"G:/tim/Project/Connectivity_train_test/real_data/HVT-2018-2019_full_recall\"\n",
    "\n",
    "# Kranji Full\n",
    "# train_races_txt = \"G:/tim/Project/Connectivity_train_test/Kranji_train_races.txt\"\n",
    "# test_races_txt = \"G:/tim/Project/Connectivity_train_test/Kranji_test_races.txt\"\n",
    "# trip_feat_train_dir = \"D:/Bitbucket/triplettraining/feat/Kranji_train\"\n",
    "# trip_feat_test_dir = \"D:/Bitbucket/triplettraining/feat/Kranji_test\"\n",
    "# cap_gt_dir = \"G:/tim/Project/Connectivity_train_test/real_data/Kranji-2018_verified_26races\"\n",
    "\n",
    "# STT Full\n",
    "# train_races_txt = \"D:/Bitbucket/HorseRacing/HorseRacingTrainingAnalysis/connectivitytraining/data/STT_train_races.txt\"\n",
    "# test_races_txt = \"D:/Bitbucket/HorseRacing/HorseRacingTrainingAnalysis/connectivitytraining/data/STT_test_races.txt\"\n",
    "# trip_feat_train_dir = \"D:/Bitbucket/HorseRacing/HorseRacingTrainingAnalysis/triplettraining/data/feat/STT_train\"\n",
    "# trip_feat_test_dir = \"D:/Bitbucket/HorseRacing/HorseRacingTrainingAnalysis/triplettraining/data/feat/STT_test\"\n",
    "# cap_gt_dir = \"G:/tim/Project/Connectivity_train_test/real_data/STT_2017_2018-NotVerified-revised\"\n",
    "\n",
    "# STAWT Full\n",
    "train_races_txt = \"D:/Bitbucket/HorseRacing/HorseRacingTrainingAnalysis/connectivitytraining/data/STAWT_train_races.txt\"\n",
    "test_races_txt = \"D:/Bitbucket/HorseRacing/HorseRacingTrainingAnalysis/connectivitytraining/data/STAWT_test_races.txt\"\n",
    "trip_feat_train_dir = \"D:/Bitbucket/HorseRacing/HorseRacingTrainingAnalysis/triplettraining/data/feat/STAWT_train\"\n",
    "trip_feat_test_dir = \"D:/Bitbucket/HorseRacing/HorseRacingTrainingAnalysis/triplettraining/data/feat/STAWT_test\"\n",
    "cap_gt_dir = \"G:/tim/Project/Connectivity_train_test/real_data/STAWT_2017_2018-NotVerified-revised\"\n",
    "\n",
    "param_dict = get_default_param()\n",
    "\n",
    "batch_size = 128\n",
    "track = \"STAWT\"\n",
    "time_str = param_dict[\"time_str\"]\n",
    "proj_name = f\"Connectivity_batch_{batch_size}_{track}_{time_str}\"\n",
    "param_dict[\"project_name\"] = proj_name\n",
    "param_dict[\"train_batch_size\"] = batch_size\n",
    "param_dict[\"test_batch_size\"] = batch_size"
   ]
  },
  {
   "cell_type": "code",
   "execution_count": 11,
   "id": "8f6fd452",
   "metadata": {},
   "outputs": [
    {
     "name": "stdout",
     "output_type": "stream",
     "text": [
      "Total 84 races to be processed.\n",
      "Processing STAWT-20170910-06 (1 / 84)...\n",
      "This Race exceeds max sample per race: 199728 will be randomly sampled\n",
      "Processing STAWT-20170910-10 (2 / 84)...\n",
      "This Race exceeds max sample per race: 199728 will be randomly sampled\n",
      "Processing STAWT-20170916-03 (3 / 84)...\n",
      "This Race exceeds max sample per race: 199728 will be randomly sampled\n",
      "Processing STAWT-20170916-05 (4 / 84)...\n",
      "This Race exceeds max sample per race: 199728 will be randomly sampled\n",
      "Processing STAWT-20170924-02 (5 / 84)...\n",
      "This Race exceeds max sample per race: 199728 will be randomly sampled\n",
      "Processing STAWT-20170924-06 (6 / 84)...\n",
      "This Race exceeds max sample per race: 199728 will be randomly sampled\n",
      "Processing STAWT-20170924-08 (7 / 84)...\n",
      "This Race exceeds max sample per race: 199728 will be randomly sampled\n",
      "Processing STAWT-20171008-07 (8 / 84)...\n",
      "This Race exceeds max sample per race: 199728 will be randomly sampled\n",
      "Processing STAWT-20171008-09 (9 / 84)...\n",
      "This Race exceeds max sample per race: 199728 will be randomly sampled\n",
      "Processing STAWT-20171014-07 (10 / 84)...\n",
      "This Race exceeds max sample per race: 199728 will be randomly sampled\n",
      "Processing STAWT-20171014-09 (11 / 84)...\n",
      "This Race exceeds max sample per race: 199728 will be randomly sampled\n",
      "Processing STAWT-20171101-02 (12 / 84)...\n",
      "This Race exceeds max sample per race: 199728 will be randomly sampled\n",
      "Processing STAWT-20171101-03 (13 / 84)...\n",
      "This Race exceeds max sample per race: 199728 will be randomly sampled\n",
      "Processing STAWT-20171101-04 (14 / 84)...\n",
      "This Race exceeds max sample per race: 199728 will be randomly sampled\n",
      "Processing STAWT-20171101-05 (15 / 84)...\n",
      "This Race exceeds max sample per race: 199728 will be randomly sampled\n",
      "Processing STAWT-20171101-06 (16 / 84)...\n",
      "This Race exceeds max sample per race: 199728 will be randomly sampled\n",
      "Processing STAWT-20171101-07 (17 / 84)...\n",
      "This Race exceeds max sample per race: 199728 will be randomly sampled\n",
      "Processing STAWT-20171101-08 (18 / 84)...\n",
      "This Race exceeds max sample per race: 199728 will be randomly sampled\n",
      "Processing STAWT-20171119-01 (19 / 84)...\n",
      "This Race exceeds max sample per race: 199728 will be randomly sampled\n",
      "Processing STAWT-20171126-03 (20 / 84)...\n",
      "This Race exceeds max sample per race: 199728 will be randomly sampled\n",
      "Processing STAWT-20171126-05 (21 / 84)...\n",
      "This Race exceeds max sample per race: 199728 will be randomly sampled\n",
      "Processing STAWT-20171203-01 (22 / 84)...\n",
      "This Race exceeds max sample per race: 199728 will be randomly sampled\n",
      "Processing STAWT-20171203-04 (23 / 84)...\n",
      "This Race exceeds max sample per race: 199728 will be randomly sampled\n",
      "Processing STAWT-20171203-05 (24 / 84)...\n",
      "This Race exceeds max sample per race: 199728 will be randomly sampled\n",
      "Processing STAWT-20171203-06 (25 / 84)...\n",
      "This Race exceeds max sample per race: 199728 will be randomly sampled\n",
      "Processing STAWT-20171203-08 (26 / 84)...\n",
      "This Race exceeds max sample per race: 199728 will be randomly sampled\n",
      "Processing STAWT-20171203-09 (27 / 84)...\n",
      "This Race exceeds max sample per race: 199728 will be randomly sampled\n",
      "Processing STAWT-20171217-03 (28 / 84)...\n",
      "This Race exceeds max sample per race: 199728 will be randomly sampled\n",
      "Processing STAWT-20171217-04 (29 / 84)...\n",
      "This Race exceeds max sample per race: 199728 will be randomly sampled\n",
      "Processing STAWT-20171217-09 (30 / 84)...\n",
      "This Race exceeds max sample per race: 199728 will be randomly sampled\n",
      "Processing STAWT-20171223-04 (31 / 84)...\n",
      "This Race exceeds max sample per race: 199728 will be randomly sampled\n",
      "Processing STAWT-20171223-08 (32 / 84)...\n",
      "This Race exceeds max sample per race: 199728 will be randomly sampled\n",
      "Processing STAWT-20180113-06 (33 / 84)...\n",
      "This Race exceeds max sample per race: 199728 will be randomly sampled\n",
      "Processing STAWT-20180113-09 (34 / 84)...\n",
      "This Race exceeds max sample per race: 199728 will be randomly sampled\n",
      "Processing STAWT-20180124-01 (35 / 84)...\n",
      "This Race exceeds max sample per race: 199728 will be randomly sampled\n",
      "Processing STAWT-20180124-02 (36 / 84)...\n",
      "This Race exceeds max sample per race: 199728 will be randomly sampled\n",
      "Processing STAWT-20180124-03 (37 / 84)...\n",
      "This Race exceeds max sample per race: 199728 will be randomly sampled\n",
      "Processing STAWT-20180124-05 (38 / 84)...\n",
      "This Race exceeds max sample per race: 199728 will be randomly sampled\n",
      "Processing STAWT-20180124-08 (39 / 84)...\n",
      "This Race exceeds max sample per race: 199728 will be randomly sampled\n",
      "Processing STAWT-20180210-02 (40 / 84)...\n",
      "This Race exceeds max sample per race: 199728 will be randomly sampled\n",
      "Processing STAWT-20180210-04 (41 / 84)...\n",
      "This Race exceeds max sample per race: 199728 will be randomly sampled\n",
      "Processing STAWT-20180210-06 (42 / 84)...\n",
      "This Race exceeds max sample per race: 199728 will be randomly sampled\n",
      "Processing STAWT-20180210-09 (43 / 84)...\n",
      "This Race exceeds max sample per race: 199728 will be randomly sampled\n",
      "Processing STAWT-20180228-01 (44 / 84)...\n",
      "This Race exceeds max sample per race: 199728 will be randomly sampled\n",
      "Processing STAWT-20180228-02 (45 / 84)...\n",
      "This Race exceeds max sample per race: 199728 will be randomly sampled\n",
      "Processing STAWT-20180228-03 (46 / 84)...\n",
      "This Race exceeds max sample per race: 199728 will be randomly sampled\n",
      "Processing STAWT-20180228-04 (47 / 84)...\n",
      "This Race exceeds max sample per race: 199728 will be randomly sampled\n",
      "Processing STAWT-20180228-05 (48 / 84)...\n",
      "This Race exceeds max sample per race: 199728 will be randomly sampled\n",
      "Processing STAWT-20180228-07 (49 / 84)...\n",
      "This Race exceeds max sample per race: 199728 will be randomly sampled\n",
      "Processing STAWT-20180228-08 (50 / 84)...\n",
      "This Race exceeds max sample per race: 199728 will be randomly sampled\n",
      "Processing STAWT-20180311-03 (51 / 84)...\n",
      "This Race exceeds max sample per race: 199728 will be randomly sampled\n",
      "Processing STAWT-20180311-05 (52 / 84)...\n",
      "This Race exceeds max sample per race: 199728 will be randomly sampled\n",
      "Processing STAWT-20180311-06 (53 / 84)...\n",
      "This Race exceeds max sample per race: 199728 will be randomly sampled\n",
      "Processing STAWT-20180325-07 (54 / 84)...\n",
      "This Race exceeds max sample per race: 199728 will be randomly sampled\n",
      "Processing STAWT-20180408-05 (55 / 84)...\n",
      "This Race exceeds max sample per race: 199728 will be randomly sampled\n",
      "Processing STAWT-20180415-02 (56 / 84)...\n",
      "This Race exceeds max sample per race: 199728 will be randomly sampled\n",
      "Processing STAWT-20180415-10 (57 / 84)...\n",
      "This Race exceeds max sample per race: 199728 will be randomly sampled\n",
      "Processing STAWT-20180421-02 (58 / 84)...\n",
      "This Race exceeds max sample per race: 199728 will be randomly sampled\n",
      "Processing STAWT-20180421-05 (59 / 84)...\n",
      "This Race exceeds max sample per race: 199728 will be randomly sampled\n",
      "Processing STAWT-20180421-09 (60 / 84)...\n",
      "This Race exceeds max sample per race: 199728 will be randomly sampled\n",
      "Processing STAWT-20180502-01 (61 / 84)...\n",
      "This Race exceeds max sample per race: 199728 will be randomly sampled\n",
      "Processing STAWT-20180502-02 (62 / 84)...\n",
      "This Race exceeds max sample per race: 199728 will be randomly sampled\n",
      "Processing STAWT-20180502-03 (63 / 84)...\n",
      "This Race exceeds max sample per race: 199728 will be randomly sampled\n",
      "Processing STAWT-20180502-04 (64 / 84)...\n",
      "This Race exceeds max sample per race: 199728 will be randomly sampled\n",
      "Processing STAWT-20180502-05 (65 / 84)...\n",
      "This Race exceeds max sample per race: 199728 will be randomly sampled\n",
      "Processing STAWT-20180502-06 (66 / 84)...\n",
      "This Race exceeds max sample per race: 199728 will be randomly sampled\n",
      "Processing STAWT-20180502-08 (67 / 84)...\n",
      "This Race exceeds max sample per race: 199728 will be randomly sampled\n",
      "Processing STAWT-20180512-06 (68 / 84)...\n",
      "This Race exceeds max sample per race: 199728 will be randomly sampled\n",
      "Processing STAWT-20180530-01 (69 / 84)...\n",
      "This Race exceeds max sample per race: 199728 will be randomly sampled\n",
      "Processing STAWT-20180530-02 (70 / 84)...\n",
      "This Race exceeds max sample per race: 199728 will be randomly sampled\n",
      "Processing STAWT-20180530-05 (71 / 84)...\n",
      "This Race exceeds max sample per race: 199728 will be randomly sampled\n",
      "Processing STAWT-20180530-06 (72 / 84)...\n",
      "This Race exceeds max sample per race: 199728 will be randomly sampled\n",
      "Processing STAWT-20180530-07 (73 / 84)...\n"
     ]
    },
    {
     "name": "stdout",
     "output_type": "stream",
     "text": [
      "This Race exceeds max sample per race: 199728 will be randomly sampled\n",
      "Processing STAWT-20180530-08 (74 / 84)...\n",
      "This Race exceeds max sample per race: 199728 will be randomly sampled\n",
      "Processing STAWT-20180610-02 (75 / 84)...\n",
      "This Race exceeds max sample per race: 199728 will be randomly sampled\n",
      "Processing STAWT-20180616-02 (76 / 84)...\n",
      "This Race exceeds max sample per race: 199728 will be randomly sampled\n",
      "Processing STAWT-20180624-04 (77 / 84)...\n",
      "This Race exceeds max sample per race: 199728 will be randomly sampled\n",
      "Processing STAWT-20180624-09 (78 / 84)...\n",
      "This Race exceeds max sample per race: 199728 will be randomly sampled\n",
      "Processing STAWT-20180701-01 (79 / 84)...\n",
      "This Race exceeds max sample per race: 199728 will be randomly sampled\n",
      "Processing STAWT-20180701-05 (80 / 84)...\n",
      "This Race exceeds max sample per race: 199728 will be randomly sampled\n",
      "Processing STAWT-20180701-09 (81 / 84)...\n",
      "This Race exceeds max sample per race: 199728 will be randomly sampled\n",
      "Processing STAWT-20180708-06 (82 / 84)...\n",
      "This Race exceeds max sample per race: 199728 will be randomly sampled\n",
      "Processing STAWT-20180708-08 (83 / 84)...\n",
      "This Race exceeds max sample per race: 199728 will be randomly sampled\n",
      "Processing STAWT-20180708-10 (84 / 84)...\n",
      "This Race exceeds max sample per race: 199728 will be randomly sampled\n",
      "Total 22 races to be processed.\n",
      "Processing STAWT-20171014-04 (1 / 22)...\n",
      "Processing STAWT-20171101-01 (2 / 22)...\n",
      "Processing STAWT-20171119-02 (3 / 22)...\n",
      "This Race exceeds max sample per race: 762600 will be randomly sampled\n",
      "Processing STAWT-20171203-02 (4 / 22)...\n",
      "Processing STAWT-20180107-02 (5 / 22)...\n",
      "Processing STAWT-20180107-03 (6 / 22)...\n",
      "This Race exceeds max sample per race: 762600 will be randomly sampled\n",
      "Processing STAWT-20180113-07 (7 / 22)...\n",
      "Processing STAWT-20180124-04 (8 / 22)...\n",
      "This Race exceeds max sample per race: 762600 will be randomly sampled\n",
      "Processing STAWT-20180124-06 (9 / 22)...\n",
      "This Race exceeds max sample per race: 762600 will be randomly sampled\n",
      "Processing STAWT-20180124-07 (10 / 22)...\n",
      "Processing STAWT-20180228-06 (11 / 22)...\n",
      "This Race exceeds max sample per race: 762600 will be randomly sampled\n",
      "Processing STAWT-20180325-01 (12 / 22)...\n",
      "Processing STAWT-20180325-06 (13 / 22)...\n",
      "Missing feature file for STAWT-20180325-06, Skipping...\n",
      "Processing STAWT-20180408-02 (14 / 22)...\n",
      "Processing STAWT-20180415-04 (15 / 22)...\n",
      "Processing STAWT-20180502-07 (16 / 22)...\n",
      "This Race exceeds max sample per race: 762600 will be randomly sampled\n",
      "Processing STAWT-20180512-03 (17 / 22)...\n",
      "Processing STAWT-20180530-03 (18 / 22)...\n",
      "Processing STAWT-20180530-04 (19 / 22)...\n",
      "Processing STAWT-20180610-07 (20 / 22)...\n",
      "This Race exceeds max sample per race: 762600 will be randomly sampled\n",
      "Processing STAWT-20180616-06 (21 / 22)...\n",
      "Processing STAWT-20180708-02 (22 / 22)...\n"
     ]
    }
   ],
   "source": [
    "# Construct the dataset from the triplets files\n",
    "from datasets.dataset import ConnDataset\n",
    "from torch.utils.data import Dataset, TensorDataset, DataLoader, WeightedRandomSampler\n",
    "conn_train_dataset = ConnDataset(train_races_txt, trip_feat_train_dir, cap_gt_dir)\n",
    "conn_test_dataset = ConnDataset(test_races_txt, trip_feat_test_dir, cap_gt_dir)\n",
    "\n",
    "# This part is to balance the data, \n",
    "# to ensure even distribution of the data within batch\n",
    "# If WeightedRandomSampler is being used, maximum 2**24 data is limited,\n",
    "# Breaking down the dataset into smaller part?\n",
    "labels = conn_train_dataset.label_classes\n",
    "label_unique, counts = np.unique(labels, return_counts = True)\n",
    "class_weights = [sum(counts) / c for c in counts]\n",
    "example_weights = [class_weights[e] for e in labels]\n",
    "train_sampler = WeightedRandomSampler(example_weights, len(labels))\n",
    "\n",
    "labels = conn_test_dataset.label_classes\n",
    "label_unique, counts = np.unique(labels, return_counts = True)\n",
    "class_weights = [sum(counts) / c for c in counts]\n",
    "example_weights = [class_weights[e] for e in labels]\n",
    "test_sampler = WeightedRandomSampler(example_weights, len(labels))\n",
    "\n",
    "train_dataloader = DataLoader(conn_train_dataset, sampler = train_sampler, batch_size = param_dict['train_batch_size'])\n",
    "test_dataloader = DataLoader(conn_test_dataset, sampler = test_sampler, batch_size = param_dict['val_batch_size'])"
   ]
  },
  {
   "cell_type": "code",
   "execution_count": 12,
   "id": "d5c34423",
   "metadata": {
    "scrolled": true
   },
   "outputs": [
    {
     "name": "stderr",
     "output_type": "stream",
     "text": [
      "Start training ...\n"
     ]
    },
    {
     "name": "stdout",
     "output_type": "stream",
     "text": [
      "Epoch 0/99\n",
      "----------\n"
     ]
    },
    {
     "name": "stderr",
     "output_type": "stream",
     "text": [
      "val Loss: 0.6919 Acc: 0.6271\n",
      "saving new best model, val_acc: 0.6271009606694291\n",
      "train Loss: 0.0170 Acc: 0.9950\n",
      "saving trained model\n"
     ]
    },
    {
     "name": "stdout",
     "output_type": "stream",
     "text": [
      "Epoch 1/99\n",
      "----------\n"
     ]
    },
    {
     "name": "stderr",
     "output_type": "stream",
     "text": [
      "train Loss: 0.0087 Acc: 0.9976\n"
     ]
    },
    {
     "name": "stdout",
     "output_type": "stream",
     "text": [
      "Epoch 2/99\n",
      "----------\n"
     ]
    },
    {
     "name": "stderr",
     "output_type": "stream",
     "text": [
      "train Loss: 0.0080 Acc: 0.9978\n"
     ]
    },
    {
     "name": "stdout",
     "output_type": "stream",
     "text": [
      "Epoch 3/99\n",
      "----------\n"
     ]
    },
    {
     "name": "stderr",
     "output_type": "stream",
     "text": [
      "val Loss: 0.3156 Acc: 0.9981\n",
      "saving new best model, val_acc: 0.998130744415188\n",
      "train Loss: 0.0076 Acc: 0.9978\n"
     ]
    },
    {
     "name": "stdout",
     "output_type": "stream",
     "text": [
      "Epoch 4/99\n",
      "----------\n"
     ]
    },
    {
     "name": "stderr",
     "output_type": "stream",
     "text": [
      "train Loss: 0.0074 Acc: 0.9979\n"
     ]
    },
    {
     "name": "stdout",
     "output_type": "stream",
     "text": [
      "Epoch 5/99\n",
      "----------\n"
     ]
    },
    {
     "name": "stderr",
     "output_type": "stream",
     "text": [
      "train Loss: 0.0073 Acc: 0.9979\n",
      "saving trained model\n"
     ]
    },
    {
     "name": "stdout",
     "output_type": "stream",
     "text": [
      "Epoch 6/99\n",
      "----------\n"
     ]
    },
    {
     "name": "stderr",
     "output_type": "stream",
     "text": [
      "val Loss: 0.3155 Acc: 0.9982\n",
      "saving new best model, val_acc: 0.9981821224991683\n",
      "train Loss: 0.0072 Acc: 0.9979\n"
     ]
    },
    {
     "name": "stdout",
     "output_type": "stream",
     "text": [
      "Epoch 7/99\n",
      "----------\n"
     ]
    },
    {
     "name": "stderr",
     "output_type": "stream",
     "text": [
      "train Loss: 0.0072 Acc: 0.9979\n"
     ]
    },
    {
     "name": "stdout",
     "output_type": "stream",
     "text": [
      "Epoch 8/99\n",
      "----------\n"
     ]
    },
    {
     "name": "stderr",
     "output_type": "stream",
     "text": [
      "train Loss: 0.0071 Acc: 0.9979\n"
     ]
    },
    {
     "name": "stdout",
     "output_type": "stream",
     "text": [
      "Epoch 9/99\n",
      "----------\n"
     ]
    },
    {
     "name": "stderr",
     "output_type": "stream",
     "text": [
      "val Loss: 0.3155 Acc: 0.9981\n",
      "train Loss: 0.0072 Acc: 0.9979\n"
     ]
    },
    {
     "name": "stdout",
     "output_type": "stream",
     "text": [
      "Epoch 10/99\n",
      "----------\n"
     ]
    },
    {
     "name": "stderr",
     "output_type": "stream",
     "text": [
      "train Loss: 0.0071 Acc: 0.9980\n",
      "saving trained model\n"
     ]
    },
    {
     "name": "stdout",
     "output_type": "stream",
     "text": [
      "Epoch 11/99\n",
      "----------\n"
     ]
    },
    {
     "name": "stderr",
     "output_type": "stream",
     "text": [
      "train Loss: 0.0070 Acc: 0.9980\n"
     ]
    },
    {
     "name": "stdout",
     "output_type": "stream",
     "text": [
      "Epoch 12/99\n",
      "----------\n"
     ]
    },
    {
     "name": "stderr",
     "output_type": "stream",
     "text": [
      "val Loss: 0.3155 Acc: 0.9982\n",
      "train Loss: 0.0071 Acc: 0.9980\n"
     ]
    },
    {
     "name": "stdout",
     "output_type": "stream",
     "text": [
      "Epoch 13/99\n",
      "----------\n"
     ]
    },
    {
     "name": "stderr",
     "output_type": "stream",
     "text": [
      "train Loss: 0.0070 Acc: 0.9980\n"
     ]
    },
    {
     "name": "stdout",
     "output_type": "stream",
     "text": [
      "Epoch 14/99\n",
      "----------\n"
     ]
    },
    {
     "name": "stderr",
     "output_type": "stream",
     "text": [
      "train Loss: 0.0070 Acc: 0.9980\n"
     ]
    },
    {
     "name": "stdout",
     "output_type": "stream",
     "text": [
      "Epoch 15/99\n",
      "----------\n"
     ]
    },
    {
     "name": "stderr",
     "output_type": "stream",
     "text": [
      "val Loss: 0.3154 Acc: 0.9982\n",
      "train Loss: 0.0070 Acc: 0.9980\n",
      "saving trained model\n"
     ]
    },
    {
     "name": "stdout",
     "output_type": "stream",
     "text": [
      "Epoch 16/99\n",
      "----------\n"
     ]
    },
    {
     "name": "stderr",
     "output_type": "stream",
     "text": [
      "train Loss: 0.0070 Acc: 0.9980\n"
     ]
    },
    {
     "name": "stdout",
     "output_type": "stream",
     "text": [
      "Epoch 17/99\n",
      "----------\n"
     ]
    },
    {
     "name": "stderr",
     "output_type": "stream",
     "text": [
      "train Loss: 0.0070 Acc: 0.9980\n"
     ]
    },
    {
     "name": "stdout",
     "output_type": "stream",
     "text": [
      "Epoch 18/99\n",
      "----------\n"
     ]
    },
    {
     "name": "stderr",
     "output_type": "stream",
     "text": [
      "val Loss: 0.3156 Acc: 0.9982\n",
      "saving new best model, val_acc: 0.9982131364406185\n",
      "train Loss: 0.0070 Acc: 0.9980\n"
     ]
    },
    {
     "name": "stdout",
     "output_type": "stream",
     "text": [
      "Epoch 19/99\n",
      "----------\n"
     ]
    },
    {
     "name": "stderr",
     "output_type": "stream",
     "text": [
      "train Loss: 0.0069 Acc: 0.9980\n"
     ]
    },
    {
     "name": "stdout",
     "output_type": "stream",
     "text": [
      "Epoch 20/99\n",
      "----------\n"
     ]
    },
    {
     "name": "stderr",
     "output_type": "stream",
     "text": [
      "train Loss: 0.0069 Acc: 0.9980\n",
      "saving trained model\n"
     ]
    },
    {
     "name": "stdout",
     "output_type": "stream",
     "text": [
      "Epoch 21/99\n",
      "----------\n"
     ]
    },
    {
     "name": "stderr",
     "output_type": "stream",
     "text": [
      "val Loss: 0.3154 Acc: 0.9982\n",
      "train Loss: 0.0070 Acc: 0.9980\n"
     ]
    },
    {
     "name": "stdout",
     "output_type": "stream",
     "text": [
      "Epoch 22/99\n",
      "----------\n"
     ]
    },
    {
     "name": "stderr",
     "output_type": "stream",
     "text": [
      "train Loss: 0.0069 Acc: 0.9980\n"
     ]
    },
    {
     "name": "stdout",
     "output_type": "stream",
     "text": [
      "Epoch 23/99\n",
      "----------\n"
     ]
    },
    {
     "name": "stderr",
     "output_type": "stream",
     "text": [
      "train Loss: 0.0069 Acc: 0.9980\n"
     ]
    },
    {
     "name": "stdout",
     "output_type": "stream",
     "text": [
      "Epoch 24/99\n",
      "----------\n"
     ]
    },
    {
     "name": "stderr",
     "output_type": "stream",
     "text": [
      "val Loss: 0.3161 Acc: 0.9979\n",
      "train Loss: 0.0069 Acc: 0.9980\n"
     ]
    },
    {
     "name": "stdout",
     "output_type": "stream",
     "text": [
      "Epoch 25/99\n",
      "----------\n"
     ]
    },
    {
     "name": "stderr",
     "output_type": "stream",
     "text": [
      "train Loss: 0.0068 Acc: 0.9980\n",
      "saving trained model\n"
     ]
    },
    {
     "name": "stdout",
     "output_type": "stream",
     "text": [
      "Epoch 26/99\n",
      "----------\n"
     ]
    },
    {
     "name": "stderr",
     "output_type": "stream",
     "text": [
      "train Loss: 0.0068 Acc: 0.9980\n"
     ]
    },
    {
     "name": "stdout",
     "output_type": "stream",
     "text": [
      "Epoch 27/99\n",
      "----------\n"
     ]
    },
    {
     "name": "stderr",
     "output_type": "stream",
     "text": [
      "val Loss: 0.3156 Acc: 0.9982\n",
      "train Loss: 0.0069 Acc: 0.9980\n"
     ]
    },
    {
     "name": "stdout",
     "output_type": "stream",
     "text": [
      "Epoch 28/99\n",
      "----------\n"
     ]
    },
    {
     "name": "stderr",
     "output_type": "stream",
     "text": [
      "train Loss: 0.0070 Acc: 0.9980\n"
     ]
    },
    {
     "name": "stdout",
     "output_type": "stream",
     "text": [
      "Epoch 29/99\n",
      "----------\n"
     ]
    },
    {
     "name": "stderr",
     "output_type": "stream",
     "text": [
      "train Loss: 0.0068 Acc: 0.9980\n"
     ]
    },
    {
     "name": "stdout",
     "output_type": "stream",
     "text": [
      "Epoch 30/99\n",
      "----------\n"
     ]
    },
    {
     "name": "stderr",
     "output_type": "stream",
     "text": [
      "val Loss: 0.3155 Acc: 0.9982\n",
      "train Loss: 0.0069 Acc: 0.9980\n",
      "saving trained model\n"
     ]
    },
    {
     "name": "stdout",
     "output_type": "stream",
     "text": [
      "Epoch 31/99\n",
      "----------\n"
     ]
    },
    {
     "name": "stderr",
     "output_type": "stream",
     "text": [
      "train Loss: 0.0069 Acc: 0.9980\n"
     ]
    },
    {
     "name": "stdout",
     "output_type": "stream",
     "text": [
      "Epoch 32/99\n",
      "----------\n"
     ]
    },
    {
     "name": "stderr",
     "output_type": "stream",
     "text": [
      "train Loss: 0.0068 Acc: 0.9980\n"
     ]
    },
    {
     "name": "stdout",
     "output_type": "stream",
     "text": [
      "Epoch 33/99\n",
      "----------\n"
     ]
    },
    {
     "name": "stderr",
     "output_type": "stream",
     "text": [
      "val Loss: 0.3154 Acc: 0.9982\n",
      "saving new best model, val_acc: 0.9982176698009697\n",
      "train Loss: 0.0068 Acc: 0.9980\n"
     ]
    },
    {
     "name": "stdout",
     "output_type": "stream",
     "text": [
      "Epoch 34/99\n",
      "----------\n"
     ]
    },
    {
     "name": "stderr",
     "output_type": "stream",
     "text": [
      "train Loss: 0.0067 Acc: 0.9981\n"
     ]
    },
    {
     "name": "stdout",
     "output_type": "stream",
     "text": [
      "Epoch 35/99\n",
      "----------\n"
     ]
    },
    {
     "name": "stderr",
     "output_type": "stream",
     "text": [
      "train Loss: 0.0068 Acc: 0.9981\n",
      "saving trained model\n"
     ]
    },
    {
     "name": "stdout",
     "output_type": "stream",
     "text": [
      "Epoch 36/99\n",
      "----------\n"
     ]
    },
    {
     "name": "stderr",
     "output_type": "stream",
     "text": [
      "val Loss: 0.3156 Acc: 0.9980\n",
      "train Loss: 0.0068 Acc: 0.9980\n"
     ]
    },
    {
     "name": "stdout",
     "output_type": "stream",
     "text": [
      "Epoch 37/99\n",
      "----------\n"
     ]
    },
    {
     "name": "stderr",
     "output_type": "stream",
     "text": [
      "train Loss: 0.0068 Acc: 0.9980\n"
     ]
    },
    {
     "name": "stdout",
     "output_type": "stream",
     "text": [
      "Epoch 38/99\n",
      "----------\n"
     ]
    },
    {
     "name": "stderr",
     "output_type": "stream",
     "text": [
      "train Loss: 0.0068 Acc: 0.9980\n"
     ]
    },
    {
     "name": "stdout",
     "output_type": "stream",
     "text": [
      "Epoch 39/99\n",
      "----------\n"
     ]
    },
    {
     "name": "stderr",
     "output_type": "stream",
     "text": [
      "val Loss: 0.3157 Acc: 0.9982\n",
      "train Loss: 0.0068 Acc: 0.9980\n"
     ]
    },
    {
     "name": "stdout",
     "output_type": "stream",
     "text": [
      "Epoch 40/99\n",
      "----------\n"
     ]
    },
    {
     "name": "stderr",
     "output_type": "stream",
     "text": [
      "train Loss: 0.0067 Acc: 0.9981\n",
      "saving trained model\n"
     ]
    },
    {
     "name": "stdout",
     "output_type": "stream",
     "text": [
      "Epoch 41/99\n",
      "----------\n"
     ]
    },
    {
     "name": "stderr",
     "output_type": "stream",
     "text": [
      "train Loss: 0.0068 Acc: 0.9980\n"
     ]
    },
    {
     "name": "stdout",
     "output_type": "stream",
     "text": [
      "Epoch 42/99\n",
      "----------\n"
     ]
    },
    {
     "name": "stderr",
     "output_type": "stream",
     "text": [
      "val Loss: 0.3155 Acc: 0.9982\n",
      "train Loss: 0.0068 Acc: 0.9980\n"
     ]
    },
    {
     "name": "stdout",
     "output_type": "stream",
     "text": [
      "Epoch 43/99\n",
      "----------\n"
     ]
    },
    {
     "name": "stderr",
     "output_type": "stream",
     "text": [
      "train Loss: 0.0067 Acc: 0.9981\n"
     ]
    },
    {
     "name": "stdout",
     "output_type": "stream",
     "text": [
      "Epoch 44/99\n",
      "----------\n"
     ]
    },
    {
     "name": "stderr",
     "output_type": "stream",
     "text": [
      "train Loss: 0.0068 Acc: 0.9980\n"
     ]
    },
    {
     "name": "stdout",
     "output_type": "stream",
     "text": [
      "Epoch 45/99\n",
      "----------\n"
     ]
    },
    {
     "name": "stderr",
     "output_type": "stream",
     "text": [
      "val Loss: 0.3157 Acc: 0.9981\n",
      "train Loss: 0.0068 Acc: 0.9981\n",
      "saving trained model\n"
     ]
    },
    {
     "name": "stdout",
     "output_type": "stream",
     "text": [
      "Epoch 46/99\n",
      "----------\n"
     ]
    },
    {
     "name": "stderr",
     "output_type": "stream",
     "text": [
      "train Loss: 0.0067 Acc: 0.9981\n"
     ]
    },
    {
     "name": "stdout",
     "output_type": "stream",
     "text": [
      "Epoch 47/99\n",
      "----------\n"
     ]
    },
    {
     "name": "stderr",
     "output_type": "stream",
     "text": [
      "train Loss: 0.0068 Acc: 0.9980\n"
     ]
    },
    {
     "name": "stdout",
     "output_type": "stream",
     "text": [
      "Epoch 48/99\n",
      "----------\n"
     ]
    },
    {
     "name": "stderr",
     "output_type": "stream",
     "text": [
      "val Loss: 0.3155 Acc: 0.9982\n",
      "train Loss: 0.0068 Acc: 0.9980\n"
     ]
    },
    {
     "name": "stdout",
     "output_type": "stream",
     "text": [
      "Epoch 49/99\n",
      "----------\n"
     ]
    },
    {
     "name": "stderr",
     "output_type": "stream",
     "text": [
      "train Loss: 0.0067 Acc: 0.9981\n"
     ]
    },
    {
     "name": "stdout",
     "output_type": "stream",
     "text": [
      "Epoch 50/99\n",
      "----------\n"
     ]
    },
    {
     "name": "stderr",
     "output_type": "stream",
     "text": [
      "train Loss: 0.0068 Acc: 0.9980\n",
      "saving trained model\n"
     ]
    },
    {
     "name": "stdout",
     "output_type": "stream",
     "text": [
      "Epoch 51/99\n",
      "----------\n"
     ]
    },
    {
     "name": "stderr",
     "output_type": "stream",
     "text": [
      "val Loss: 0.3154 Acc: 0.9982\n",
      "train Loss: 0.0068 Acc: 0.9980\n"
     ]
    },
    {
     "name": "stdout",
     "output_type": "stream",
     "text": [
      "Epoch 52/99\n",
      "----------\n"
     ]
    },
    {
     "name": "stderr",
     "output_type": "stream",
     "text": [
      "train Loss: 0.0068 Acc: 0.9980\n"
     ]
    },
    {
     "name": "stdout",
     "output_type": "stream",
     "text": [
      "Epoch 53/99\n",
      "----------\n"
     ]
    },
    {
     "name": "stderr",
     "output_type": "stream",
     "text": [
      "train Loss: 0.0067 Acc: 0.9981\n"
     ]
    },
    {
     "name": "stdout",
     "output_type": "stream",
     "text": [
      "Epoch 54/99\n",
      "----------\n"
     ]
    },
    {
     "name": "stderr",
     "output_type": "stream",
     "text": [
      "val Loss: 0.3154 Acc: 0.9982\n",
      "train Loss: 0.0067 Acc: 0.9980\n"
     ]
    },
    {
     "name": "stdout",
     "output_type": "stream",
     "text": [
      "Epoch 55/99\n",
      "----------\n"
     ]
    },
    {
     "name": "stderr",
     "output_type": "stream",
     "text": [
      "train Loss: 0.0067 Acc: 0.9981\n",
      "saving trained model\n"
     ]
    },
    {
     "name": "stdout",
     "output_type": "stream",
     "text": [
      "Epoch 56/99\n",
      "----------\n"
     ]
    },
    {
     "name": "stderr",
     "output_type": "stream",
     "text": [
      "train Loss: 0.0067 Acc: 0.9981\n"
     ]
    },
    {
     "name": "stdout",
     "output_type": "stream",
     "text": [
      "Epoch 57/99\n",
      "----------\n"
     ]
    },
    {
     "name": "stderr",
     "output_type": "stream",
     "text": [
      "val Loss: 0.3155 Acc: 0.9982\n",
      "train Loss: 0.0067 Acc: 0.9980\n"
     ]
    },
    {
     "name": "stdout",
     "output_type": "stream",
     "text": [
      "Epoch 58/99\n",
      "----------\n"
     ]
    },
    {
     "name": "stderr",
     "output_type": "stream",
     "text": [
      "train Loss: 0.0068 Acc: 0.9980\n"
     ]
    },
    {
     "name": "stdout",
     "output_type": "stream",
     "text": [
      "Epoch 59/99\n",
      "----------\n"
     ]
    },
    {
     "name": "stderr",
     "output_type": "stream",
     "text": [
      "train Loss: 0.0068 Acc: 0.9981\n"
     ]
    },
    {
     "name": "stdout",
     "output_type": "stream",
     "text": [
      "Epoch 60/99\n",
      "----------\n"
     ]
    },
    {
     "name": "stderr",
     "output_type": "stream",
     "text": [
      "val Loss: 0.3155 Acc: 0.9981\n",
      "train Loss: 0.0067 Acc: 0.9981\n",
      "saving trained model\n"
     ]
    },
    {
     "name": "stdout",
     "output_type": "stream",
     "text": [
      "Epoch 61/99\n",
      "----------\n"
     ]
    },
    {
     "name": "stderr",
     "output_type": "stream",
     "text": [
      "train Loss: 0.0067 Acc: 0.9980\n"
     ]
    },
    {
     "name": "stdout",
     "output_type": "stream",
     "text": [
      "Epoch 62/99\n",
      "----------\n"
     ]
    },
    {
     "name": "stderr",
     "output_type": "stream",
     "text": [
      "train Loss: 0.0067 Acc: 0.9980\n"
     ]
    },
    {
     "name": "stdout",
     "output_type": "stream",
     "text": [
      "Epoch 63/99\n",
      "----------\n"
     ]
    },
    {
     "name": "stderr",
     "output_type": "stream",
     "text": [
      "val Loss: 0.3154 Acc: 0.9981\n",
      "train Loss: 0.0067 Acc: 0.9981\n"
     ]
    },
    {
     "name": "stdout",
     "output_type": "stream",
     "text": [
      "Epoch 64/99\n",
      "----------\n"
     ]
    },
    {
     "name": "stderr",
     "output_type": "stream",
     "text": [
      "train Loss: 0.0068 Acc: 0.9980\n"
     ]
    },
    {
     "name": "stdout",
     "output_type": "stream",
     "text": [
      "Epoch 65/99\n",
      "----------\n"
     ]
    },
    {
     "name": "stderr",
     "output_type": "stream",
     "text": [
      "train Loss: 0.0067 Acc: 0.9981\n",
      "saving trained model\n"
     ]
    },
    {
     "name": "stdout",
     "output_type": "stream",
     "text": [
      "Epoch 66/99\n",
      "----------\n"
     ]
    },
    {
     "name": "stderr",
     "output_type": "stream",
     "text": [
      "val Loss: 0.3155 Acc: 0.9982\n",
      "saving new best model, val_acc: 0.9982226349099258\n",
      "train Loss: 0.0067 Acc: 0.9980\n"
     ]
    },
    {
     "name": "stdout",
     "output_type": "stream",
     "text": [
      "Epoch 67/99\n",
      "----------\n"
     ]
    },
    {
     "name": "stderr",
     "output_type": "stream",
     "text": [
      "train Loss: 0.0068 Acc: 0.9981\n"
     ]
    },
    {
     "name": "stdout",
     "output_type": "stream",
     "text": [
      "Epoch 68/99\n",
      "----------\n"
     ]
    },
    {
     "name": "stderr",
     "output_type": "stream",
     "text": [
      "train Loss: 0.0067 Acc: 0.9981\n"
     ]
    },
    {
     "name": "stdout",
     "output_type": "stream",
     "text": [
      "Epoch 69/99\n",
      "----------\n"
     ]
    },
    {
     "name": "stderr",
     "output_type": "stream",
     "text": [
      "val Loss: 0.3154 Acc: 0.9982\n",
      "saving new best model, val_acc: 0.998239473105516\n",
      "train Loss: 0.0068 Acc: 0.9980\n"
     ]
    },
    {
     "name": "stdout",
     "output_type": "stream",
     "text": [
      "Epoch 70/99\n",
      "----------\n"
     ]
    },
    {
     "name": "stderr",
     "output_type": "stream",
     "text": [
      "train Loss: 0.0068 Acc: 0.9980\n",
      "saving trained model\n"
     ]
    },
    {
     "name": "stdout",
     "output_type": "stream",
     "text": [
      "Epoch 71/99\n",
      "----------\n"
     ]
    },
    {
     "name": "stderr",
     "output_type": "stream",
     "text": [
      "train Loss: 0.0067 Acc: 0.9980\n"
     ]
    },
    {
     "name": "stdout",
     "output_type": "stream",
     "text": [
      "Epoch 72/99\n",
      "----------\n"
     ]
    },
    {
     "name": "stderr",
     "output_type": "stream",
     "text": [
      "val Loss: 0.3155 Acc: 0.9981\n",
      "train Loss: 0.0067 Acc: 0.9980\n"
     ]
    },
    {
     "name": "stdout",
     "output_type": "stream",
     "text": [
      "Epoch 73/99\n",
      "----------\n"
     ]
    },
    {
     "name": "stderr",
     "output_type": "stream",
     "text": [
      "train Loss: 0.0067 Acc: 0.9981\n"
     ]
    },
    {
     "name": "stdout",
     "output_type": "stream",
     "text": [
      "Epoch 74/99\n",
      "----------\n"
     ]
    },
    {
     "name": "stderr",
     "output_type": "stream",
     "text": [
      "train Loss: 0.0067 Acc: 0.9981\n"
     ]
    },
    {
     "name": "stdout",
     "output_type": "stream",
     "text": [
      "Epoch 75/99\n",
      "----------\n"
     ]
    },
    {
     "name": "stderr",
     "output_type": "stream",
     "text": [
      "val Loss: 0.3155 Acc: 0.9982\n",
      "train Loss: 0.0066 Acc: 0.9981\n",
      "saving trained model\n"
     ]
    },
    {
     "name": "stdout",
     "output_type": "stream",
     "text": [
      "Epoch 76/99\n",
      "----------\n"
     ]
    },
    {
     "name": "stderr",
     "output_type": "stream",
     "text": [
      "train Loss: 0.0067 Acc: 0.9981\n"
     ]
    },
    {
     "name": "stdout",
     "output_type": "stream",
     "text": [
      "Epoch 77/99\n",
      "----------\n"
     ]
    },
    {
     "name": "stderr",
     "output_type": "stream",
     "text": [
      "train Loss: 0.0068 Acc: 0.9980\n"
     ]
    },
    {
     "name": "stdout",
     "output_type": "stream",
     "text": [
      "Epoch 78/99\n",
      "----------\n"
     ]
    },
    {
     "name": "stderr",
     "output_type": "stream",
     "text": [
      "val Loss: 0.3155 Acc: 0.9982\n",
      "train Loss: 0.0068 Acc: 0.9980\n"
     ]
    },
    {
     "name": "stdout",
     "output_type": "stream",
     "text": [
      "Epoch 79/99\n",
      "----------\n"
     ]
    },
    {
     "name": "stderr",
     "output_type": "stream",
     "text": [
      "train Loss: 0.0067 Acc: 0.9981\n"
     ]
    },
    {
     "name": "stdout",
     "output_type": "stream",
     "text": [
      "Epoch 80/99\n",
      "----------\n"
     ]
    },
    {
     "name": "stderr",
     "output_type": "stream",
     "text": [
      "train Loss: 0.0067 Acc: 0.9981\n",
      "saving trained model\n"
     ]
    },
    {
     "name": "stdout",
     "output_type": "stream",
     "text": [
      "Epoch 81/99\n",
      "----------\n"
     ]
    },
    {
     "name": "stderr",
     "output_type": "stream",
     "text": [
      "val Loss: 0.3155 Acc: 0.9982\n",
      "train Loss: 0.0067 Acc: 0.9981\n"
     ]
    },
    {
     "name": "stdout",
     "output_type": "stream",
     "text": [
      "Epoch 82/99\n",
      "----------\n"
     ]
    },
    {
     "name": "stderr",
     "output_type": "stream",
     "text": [
      "train Loss: 0.0067 Acc: 0.9981\n"
     ]
    },
    {
     "name": "stdout",
     "output_type": "stream",
     "text": [
      "Epoch 83/99\n",
      "----------\n"
     ]
    },
    {
     "name": "stderr",
     "output_type": "stream",
     "text": [
      "train Loss: 0.0067 Acc: 0.9981\n"
     ]
    },
    {
     "name": "stdout",
     "output_type": "stream",
     "text": [
      "Epoch 84/99\n",
      "----------\n"
     ]
    },
    {
     "name": "stderr",
     "output_type": "stream",
     "text": [
      "val Loss: 0.3154 Acc: 0.9982\n",
      "train Loss: 0.0067 Acc: 0.9981\n"
     ]
    },
    {
     "name": "stdout",
     "output_type": "stream",
     "text": [
      "Epoch 85/99\n",
      "----------\n"
     ]
    },
    {
     "name": "stderr",
     "output_type": "stream",
     "text": [
      "train Loss: 0.0067 Acc: 0.9981\n",
      "saving trained model\n"
     ]
    },
    {
     "name": "stdout",
     "output_type": "stream",
     "text": [
      "Epoch 86/99\n",
      "----------\n"
     ]
    },
    {
     "name": "stderr",
     "output_type": "stream",
     "text": [
      "train Loss: 0.0067 Acc: 0.9981\n"
     ]
    },
    {
     "name": "stdout",
     "output_type": "stream",
     "text": [
      "Epoch 87/99\n",
      "----------\n"
     ]
    },
    {
     "name": "stderr",
     "output_type": "stream",
     "text": [
      "val Loss: 0.3155 Acc: 0.9982\n",
      "train Loss: 0.0067 Acc: 0.9981\n"
     ]
    },
    {
     "name": "stdout",
     "output_type": "stream",
     "text": [
      "Epoch 88/99\n",
      "----------\n"
     ]
    },
    {
     "name": "stderr",
     "output_type": "stream",
     "text": [
      "train Loss: 0.0067 Acc: 0.9981\n"
     ]
    },
    {
     "name": "stdout",
     "output_type": "stream",
     "text": [
      "Epoch 89/99\n",
      "----------\n"
     ]
    },
    {
     "name": "stderr",
     "output_type": "stream",
     "text": [
      "train Loss: 0.0067 Acc: 0.9981\n"
     ]
    },
    {
     "name": "stdout",
     "output_type": "stream",
     "text": [
      "Epoch 90/99\n",
      "----------\n"
     ]
    },
    {
     "name": "stderr",
     "output_type": "stream",
     "text": [
      "val Loss: 0.3154 Acc: 0.9982\n",
      "train Loss: 0.0067 Acc: 0.9981\n",
      "saving trained model\n"
     ]
    },
    {
     "name": "stdout",
     "output_type": "stream",
     "text": [
      "Epoch 91/99\n",
      "----------\n"
     ]
    },
    {
     "name": "stderr",
     "output_type": "stream",
     "text": [
      "train Loss: 0.0067 Acc: 0.9981\n"
     ]
    },
    {
     "name": "stdout",
     "output_type": "stream",
     "text": [
      "Epoch 92/99\n",
      "----------\n"
     ]
    },
    {
     "name": "stderr",
     "output_type": "stream",
     "text": [
      "train Loss: 0.0066 Acc: 0.9981\n"
     ]
    },
    {
     "name": "stdout",
     "output_type": "stream",
     "text": [
      "Epoch 93/99\n",
      "----------\n"
     ]
    },
    {
     "name": "stderr",
     "output_type": "stream",
     "text": [
      "val Loss: 0.3155 Acc: 0.9982\n",
      "train Loss: 0.0067 Acc: 0.9980\n"
     ]
    },
    {
     "name": "stdout",
     "output_type": "stream",
     "text": [
      "Epoch 94/99\n",
      "----------\n"
     ]
    },
    {
     "name": "stderr",
     "output_type": "stream",
     "text": [
      "train Loss: 0.0067 Acc: 0.9980\n"
     ]
    },
    {
     "name": "stdout",
     "output_type": "stream",
     "text": [
      "Epoch 95/99\n",
      "----------\n"
     ]
    },
    {
     "name": "stderr",
     "output_type": "stream",
     "text": [
      "train Loss: 0.0066 Acc: 0.9981\n",
      "saving trained model\n"
     ]
    },
    {
     "name": "stdout",
     "output_type": "stream",
     "text": [
      "Epoch 96/99\n",
      "----------\n"
     ]
    },
    {
     "name": "stderr",
     "output_type": "stream",
     "text": [
      "val Loss: 0.3154 Acc: 0.9982\n",
      "train Loss: 0.0067 Acc: 0.9981\n"
     ]
    },
    {
     "name": "stdout",
     "output_type": "stream",
     "text": [
      "Epoch 97/99\n",
      "----------\n"
     ]
    },
    {
     "name": "stderr",
     "output_type": "stream",
     "text": [
      "train Loss: 0.0066 Acc: 0.9981\n"
     ]
    },
    {
     "name": "stdout",
     "output_type": "stream",
     "text": [
      "Epoch 98/99\n",
      "----------\n"
     ]
    },
    {
     "name": "stderr",
     "output_type": "stream",
     "text": [
      "train Loss: 0.0066 Acc: 0.9981\n"
     ]
    },
    {
     "name": "stdout",
     "output_type": "stream",
     "text": [
      "Epoch 99/99\n",
      "----------\n"
     ]
    },
    {
     "name": "stderr",
     "output_type": "stream",
     "text": [
      "val Loss: 0.3155 Acc: 0.9982\n",
      "train Loss: 0.0066 Acc: 0.9981\n"
     ]
    }
   ],
   "source": [
    "from model.conn import ConnNet\n",
    "\n",
    "conn_net = ConnNet().to(param_dict['device'])\n",
    "\n",
    "dataloaders = {\"train\":train_dataloader, \"val\":test_dataloader}\n",
    "\n",
    "loss = torch.nn.CrossEntropyLoss()\n",
    "\n",
    "optimizer = torch.optim.SGD(conn_net.parameters(), lr = 0.001, momentum = 0.9)\n",
    "\n",
    "# Train Model\n",
    "conn_net = train_model(conn_net, dataloaders, loss, optimizer, param_dict = param_dict)"
   ]
  },
  {
   "cell_type": "code",
   "execution_count": 10,
   "id": "c489c3ef",
   "metadata": {},
   "outputs": [
    {
     "data": {
      "text/plain": [
       "2560399"
      ]
     },
     "execution_count": 10,
     "metadata": {},
     "output_type": "execute_result"
    }
   ],
   "source": [
    "len(conn_test_dataset.inputs)"
   ]
  },
  {
   "cell_type": "code",
   "execution_count": null,
   "id": "b51269e4",
   "metadata": {},
   "outputs": [],
   "source": []
  }
 ],
 "metadata": {
  "kernelspec": {
   "display_name": "Python 3 (ipykernel)",
   "language": "python",
   "name": "python3"
  },
  "language_info": {
   "codemirror_mode": {
    "name": "ipython",
    "version": 3
   },
   "file_extension": ".py",
   "mimetype": "text/x-python",
   "name": "python",
   "nbconvert_exporter": "python",
   "pygments_lexer": "ipython3",
   "version": "3.8.8"
  }
 },
 "nbformat": 4,
 "nbformat_minor": 5
}
