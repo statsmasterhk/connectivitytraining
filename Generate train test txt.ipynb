{
 "cells": [
  {
   "cell_type": "code",
   "execution_count": 1,
   "id": "6dd5996d",
   "metadata": {},
   "outputs": [
    {
     "ename": "SyntaxError",
     "evalue": "invalid syntax (3542306451.py, line 10)",
     "output_type": "error",
     "traceback": [
      "\u001b[1;36m  Input \u001b[1;32mIn [1]\u001b[1;36m\u001b[0m\n\u001b[1;33m    train_feat_dir = os.path.join(feat,f\"{track}_train\")f\"D:/Bitbucket/triplettraining/feat/{track}_train\"\u001b[0m\n\u001b[1;37m                                                        ^\u001b[0m\n\u001b[1;31mSyntaxError\u001b[0m\u001b[1;31m:\u001b[0m invalid syntax\n"
     ]
    }
   ],
   "source": [
    "# Helper to generate train test TXT\n",
    "import os\n",
    "\n",
    "#train_dir = \"F:/train_data/cap/HVT/train\"\n",
    "#test_dir = \"F:/train_data/cap/HVT/test\"\n",
    "#expected_file_format = \"dir\" # Supported csv or dir\n",
    "\n",
    "track = \"HVT\"\n",
    "data_dir = \"./data\"\n",
    "if not os.path.exists(data_dir):\n",
    "    os.makedirs(data_dir)\n",
    "\n",
    "train_feat_dir = os.path.join(train_data_dir,\"feat\",f\"{track}_train\")\n",
    "test_feat_dir = os.path.join(train_data_dir,\"feat\",f\"{track}_test\")\n",
    "expected_file_format = \"csv\" # Supported csv or dir\n",
    "\n",
    "# Construct train txt\n",
    "out_file =  os.path.join(data_dir,f\"{track}_train_races.txt\")\n",
    "train_racelabels = []\n",
    "for path in os.listdir(train_dir):\n",
    "    racelabel = \"\"\n",
    "    if expected_file_format == \"dir\":\n",
    "        racelabel = path\n",
    "    if expected_file_format == \"csv\":\n",
    "        racelabel = os.path.splitext(path)[0]\n",
    "    if racelabel != \"\":\n",
    "        train_racelabels.append(racelabel)\n",
    "with open(out_file, \"w+\") as f:\n",
    "    for racelabel in train_racelabels:\n",
    "        f.write(f\"{racelabel}\\n\")\n",
    "        \n",
    "# Construct test txt  \n",
    "out_file = f\"{track}_test_races.txt\"\n",
    "test_racelabels = []\n",
    "for path in os.listdir(test_dir):\n",
    "    racelabel = \"\"\n",
    "    if expected_file_format == \"dir\":\n",
    "        racelabel = path\n",
    "    if expected_file_format == \"csv\":\n",
    "        racelabel = os.path.splitext(path)[0]\n",
    "    if racelabel != \"\":\n",
    "        test_racelabels.append(racelabel)\n",
    "with open(out_file, \"w+\") as f:\n",
    "    for racelabel in test_racelabels:\n",
    "        f.write(f\"{racelabel}\\n\")"
   ]
  },
  {
   "cell_type": "code",
   "execution_count": null,
   "id": "3beed365",
   "metadata": {},
   "outputs": [],
   "source": []
  }
 ],
 "metadata": {
  "kernelspec": {
   "display_name": "Python 3 (ipykernel)",
   "language": "python",
   "name": "python3"
  },
  "language_info": {
   "codemirror_mode": {
    "name": "ipython",
    "version": 3
   },
   "file_extension": ".py",
   "mimetype": "text/x-python",
   "name": "python",
   "nbconvert_exporter": "python",
   "pygments_lexer": "ipython3",
   "version": "3.8.8"
  }
 },
 "nbformat": 4,
 "nbformat_minor": 5
}
