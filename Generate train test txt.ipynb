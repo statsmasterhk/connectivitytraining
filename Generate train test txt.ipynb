{
 "cells": [
  {
   "cell_type": "code",
   "execution_count": 5,
   "id": "6dd5996d",
   "metadata": {},
   "outputs": [],
   "source": [
    "# Helper to generate train test TXT\n",
    "import os\n",
    "\n",
    "# HVT\n",
    "#train_dir = \"F:/train_data/cap/HVT/train\"\n",
    "#test_dir = \"F:/train_data/cap/HVT/test\"\n",
    "#expected_file_format = \"dir\" # Supported csv or dir\n",
    "#track = \"HVT\"\n",
    "#data_dir = \"./data\"\n",
    "\n",
    "# STT\n",
    "train_dir = \"F:/train_data/cap/STAWT/train\"\n",
    "test_dir = \"F:/train_data/cap/STAWT/test\"\n",
    "expected_file_format = \"dir\" # Supported csv or dir\n",
    "track = \"STAWT\"\n",
    "data_dir = \"./data\"\n",
    "\n",
    "train_feat_dir = os.path.join(data_dir,\"feat\",f\"{track}_train\")\n",
    "test_feat_dir = os.path.join(data_dir,\"feat\",f\"{track}_test\")\n",
    "\n",
    "if not os.path.exists(train_feat_dir):\n",
    "    os.makedirs(train_feat_dir)\n",
    "    \n",
    "if not os.path.exists(test_feat_dir):\n",
    "    os.makedirs(test_feat_dir)\n",
    "\n",
    "# Construct train txt\n",
    "out_file =  os.path.join(data_dir,f\"{track}_train_races.txt\")\n",
    "train_racelabels = []\n",
    "for path in os.listdir(train_dir):\n",
    "    racelabel = \"\"\n",
    "    if expected_file_format == \"dir\":\n",
    "        racelabel = path\n",
    "    if expected_file_format == \"csv\":\n",
    "        racelabel = os.path.splitext(path)[0]\n",
    "    if racelabel != \"\":\n",
    "        train_racelabels.append(racelabel)\n",
    "with open(out_file, \"w+\") as f:\n",
    "    for racelabel in train_racelabels:\n",
    "        f.write(f\"{racelabel}\\n\")\n",
    "        \n",
    "# Construct test txt  \n",
    "out_file = os.path.join(data_dir,f\"{track}_test_races.txt\")\n",
    "test_racelabels = []\n",
    "for path in os.listdir(test_dir):\n",
    "    racelabel = \"\"\n",
    "    if expected_file_format == \"dir\":\n",
    "        racelabel = path\n",
    "    if expected_file_format == \"csv\":\n",
    "        racelabel = os.path.splitext(path)[0]\n",
    "    if racelabel != \"\":\n",
    "        test_racelabels.append(racelabel)\n",
    "with open(out_file, \"w+\") as f:\n",
    "    for racelabel in test_racelabels:\n",
    "        f.write(f\"{racelabel}\\n\")"
   ]
  },
  {
   "cell_type": "code",
   "execution_count": null,
   "id": "3beed365",
   "metadata": {},
   "outputs": [],
   "source": []
  }
 ],
 "metadata": {
  "kernelspec": {
   "display_name": "Python 3 (ipykernel)",
   "language": "python",
   "name": "python3"
  },
  "language_info": {
   "codemirror_mode": {
    "name": "ipython",
    "version": 3
   },
   "file_extension": ".py",
   "mimetype": "text/x-python",
   "name": "python",
   "nbconvert_exporter": "python",
   "pygments_lexer": "ipython3",
   "version": "3.8.8"
  }
 },
 "nbformat": 4,
 "nbformat_minor": 5
}
